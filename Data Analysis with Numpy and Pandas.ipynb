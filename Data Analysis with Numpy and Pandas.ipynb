{
 "cells": [
  {
   "cell_type": "markdown",
   "metadata": {},
   "source": [
    "# Introduction"
   ]
  },
  {
   "cell_type": "markdown",
   "metadata": {},
   "source": [
    "## Dataset\n",
    "Generate random age"
   ]
  },
  {
   "cell_type": "code",
   "execution_count": 1,
   "metadata": {},
   "outputs": [],
   "source": [
    "num = [28, 30, 31, 33, 19, 26, 25, 26, 37, 22, 37, 24, 21, 32, 31, 33, 34,\n",
    "       40, 38, 32, 36, 32, 23, 20, 30, 42, 20, 37, 21, 27, 25, 40, 24, 39,\n",
    "       25, 23, 32, 25, 21, 41, 34, 40, 31, 33, 32, 31, 18, 18, 42, 29]"
   ]
  },
  {
   "cell_type": "markdown",
   "metadata": {},
   "source": [
    "# Numpy\n"
   ]
  },
  {
   "cell_type": "markdown",
   "metadata": {},
   "source": [
    "## Import numpy\n",
    "Import libraries and write settings here."
   ]
  },
  {
   "cell_type": "code",
   "execution_count": 2,
   "metadata": {},
   "outputs": [],
   "source": []
  },
  {
   "cell_type": "markdown",
   "metadata": {},
   "source": [
    "## Creating a numpy array"
   ]
  },
  {
   "cell_type": "code",
   "execution_count": 3,
   "metadata": {},
   "outputs": [
    {
     "data": {
      "text/plain": [
       "array([28, 30, 31, 33, 19, 26, 25, 26, 37, 22, 37, 24, 21, 32, 31, 33, 34,\n",
       "       40, 38, 32, 36, 32, 23, 20, 30, 42, 20, 37, 21, 27, 25, 40, 24, 39,\n",
       "       25, 23, 32, 25, 21, 41, 34, 40, 31, 33, 32, 31, 18, 18, 42, 29])"
      ]
     },
     "execution_count": 3,
     "metadata": {},
     "output_type": "execute_result"
    }
   ],
   "source": []
  },
  {
   "cell_type": "markdown",
   "metadata": {},
   "source": [
    "## Dimension\n",
    "`ndim` output the number of dimensions of an array "
   ]
  },
  {
   "cell_type": "code",
   "execution_count": 4,
   "metadata": {},
   "outputs": [],
   "source": [
    "example = np.array([[1,2,3],\n",
    "                   [3,4,5],\n",
    "                   [6,7,8]])"
   ]
  },
  {
   "cell_type": "code",
   "execution_count": 5,
   "metadata": {},
   "outputs": [
    {
     "data": {
      "text/plain": [
       "2"
      ]
     },
     "execution_count": 5,
     "metadata": {},
     "output_type": "execute_result"
    }
   ],
   "source": []
  },
  {
   "cell_type": "code",
   "execution_count": 6,
   "metadata": {},
   "outputs": [
    {
     "data": {
      "text/plain": [
       "1"
      ]
     },
     "execution_count": 6,
     "metadata": {},
     "output_type": "execute_result"
    }
   ],
   "source": []
  },
  {
   "cell_type": "markdown",
   "metadata": {},
   "source": [
    "## Shape and Size\n",
    "output the size of the dimension"
   ]
  },
  {
   "cell_type": "code",
   "execution_count": 7,
   "metadata": {},
   "outputs": [
    {
     "data": {
      "text/plain": [
       "(3, 3)"
      ]
     },
     "execution_count": 7,
     "metadata": {},
     "output_type": "execute_result"
    }
   ],
   "source": [
    "example.shape"
   ]
  },
  {
   "cell_type": "code",
   "execution_count": 8,
   "metadata": {},
   "outputs": [
    {
     "data": {
      "text/plain": [
       "(50,)"
      ]
     },
     "execution_count": 8,
     "metadata": {},
     "output_type": "execute_result"
    }
   ],
   "source": [
    "age.shape"
   ]
  },
  {
   "cell_type": "code",
   "execution_count": 9,
   "metadata": {},
   "outputs": [
    {
     "data": {
      "text/plain": [
       "9"
      ]
     },
     "execution_count": 9,
     "metadata": {},
     "output_type": "execute_result"
    }
   ],
   "source": [
    "example.size"
   ]
  },
  {
   "cell_type": "code",
   "execution_count": 1,
   "metadata": {},
   "outputs": [
    {
     "ename": "NameError",
     "evalue": "name 'age' is not defined",
     "output_type": "error",
     "traceback": [
      "\u001b[0;31m---------------------------------------------------------------------------\u001b[0m",
      "\u001b[0;31mNameError\u001b[0m                                 Traceback (most recent call last)",
      "\u001b[0;32m<ipython-input-1-25022b3aa44f>\u001b[0m in \u001b[0;36m<module>\u001b[0;34m\u001b[0m\n\u001b[0;32m----> 1\u001b[0;31m \u001b[0mage\u001b[0m\u001b[0;34m.\u001b[0m\u001b[0msize\u001b[0m\u001b[0;34m\u001b[0m\u001b[0;34m\u001b[0m\u001b[0m\n\u001b[0m",
      "\u001b[0;31mNameError\u001b[0m: name 'age' is not defined"
     ]
    }
   ],
   "source": [
    "age.size"
   ]
  },
  {
   "cell_type": "markdown",
   "metadata": {},
   "source": [
    "## Mathematical operations"
   ]
  },
  {
   "cell_type": "code",
   "execution_count": 10,
   "metadata": {},
   "outputs": [
    {
     "data": {
      "text/plain": [
       "array([30, 32, 33, 35, 21, 28, 27, 28, 39, 24, 39, 26, 23, 34, 33, 35, 36,\n",
       "       42, 40, 34, 38, 34, 25, 22, 32, 44, 22, 39, 23, 29, 27, 42, 26, 41,\n",
       "       27, 25, 34, 27, 23, 43, 36, 42, 33, 35, 34, 33, 20, 20, 44, 31])"
      ]
     },
     "execution_count": 10,
     "metadata": {},
     "output_type": "execute_result"
    }
   ],
   "source": []
  },
  {
   "cell_type": "markdown",
   "metadata": {},
   "source": [
    "## Trigonometric function"
   ]
  },
  {
   "cell_type": "code",
   "execution_count": 11,
   "metadata": {},
   "outputs": [
    {
     "data": {
      "text/plain": [
       "array([[ 0.84147098,  0.90929743,  0.14112001],\n",
       "       [ 0.14112001, -0.7568025 , -0.95892427],\n",
       "       [-0.2794155 ,  0.6569866 ,  0.98935825]])"
      ]
     },
     "execution_count": 11,
     "metadata": {},
     "output_type": "execute_result"
    }
   ],
   "source": []
  },
  {
   "cell_type": "markdown",
   "metadata": {},
   "source": [
    "## Conditional operations"
   ]
  },
  {
   "cell_type": "code",
   "execution_count": 12,
   "metadata": {},
   "outputs": [
    {
     "data": {
      "text/plain": [
       "array([False, False, False, False, False, False, False, False,  True,\n",
       "       False,  True, False, False, False, False, False, False,  True,\n",
       "        True, False,  True, False, False, False, False,  True, False,\n",
       "        True, False, False, False,  True, False,  True, False, False,\n",
       "       False, False, False,  True, False,  True, False, False, False,\n",
       "       False, False, False,  True, False])"
      ]
     },
     "execution_count": 12,
     "metadata": {},
     "output_type": "execute_result"
    }
   ],
   "source": []
  },
  {
   "cell_type": "markdown",
   "metadata": {},
   "source": [
    "## Indexing and slice"
   ]
  },
  {
   "cell_type": "code",
   "execution_count": 13,
   "metadata": {},
   "outputs": [
    {
     "data": {
      "text/plain": [
       "array([[1, 2, 3],\n",
       "       [3, 4, 5],\n",
       "       [6, 7, 8]])"
      ]
     },
     "execution_count": 13,
     "metadata": {},
     "output_type": "execute_result"
    }
   ],
   "source": []
  },
  {
   "cell_type": "markdown",
   "metadata": {},
   "source": [
    "### Index a number"
   ]
  },
  {
   "cell_type": "code",
   "execution_count": 14,
   "metadata": {},
   "outputs": [
    {
     "data": {
      "text/plain": [
       "5"
      ]
     },
     "execution_count": 14,
     "metadata": {},
     "output_type": "execute_result"
    }
   ],
   "source": []
  },
  {
   "cell_type": "markdown",
   "metadata": {},
   "source": [
    "### First 10 ages"
   ]
  },
  {
   "cell_type": "code",
   "execution_count": 15,
   "metadata": {},
   "outputs": [
    {
     "data": {
      "text/plain": [
       "array([28, 30, 31, 33, 19, 26, 25, 26, 37, 22])"
      ]
     },
     "execution_count": 15,
     "metadata": {},
     "output_type": "execute_result"
    }
   ],
   "source": []
  },
  {
   "cell_type": "markdown",
   "metadata": {},
   "source": [
    "### The last row of example"
   ]
  },
  {
   "cell_type": "code",
   "execution_count": 16,
   "metadata": {},
   "outputs": [
    {
     "data": {
      "text/plain": [
       "array([6, 7, 8])"
      ]
     },
     "execution_count": 16,
     "metadata": {},
     "output_type": "execute_result"
    }
   ],
   "source": []
  },
  {
   "cell_type": "markdown",
   "metadata": {},
   "source": [
    "# Pandas"
   ]
  },
  {
   "cell_type": "markdown",
   "metadata": {},
   "source": [
    "### Creating new pandas series"
   ]
  },
  {
   "cell_type": "markdown",
   "metadata": {},
   "source": [
    "#### Without index"
   ]
  },
  {
   "cell_type": "code",
   "execution_count": 51,
   "metadata": {},
   "outputs": [
    {
     "data": {
      "text/plain": [
       "0    0.867305\n",
       "1    0.642822\n",
       "2    0.698573\n",
       "3    0.377474\n",
       "4    0.203253\n",
       "dtype: float64"
      ]
     },
     "execution_count": 51,
     "metadata": {},
     "output_type": "execute_result"
    }
   ],
   "source": []
  },
  {
   "cell_type": "markdown",
   "metadata": {},
   "source": [
    "#### With index"
   ]
  },
  {
   "cell_type": "code",
   "execution_count": 52,
   "metadata": {},
   "outputs": [
    {
     "data": {
      "text/plain": [
       "a    0.914300\n",
       "b    0.322954\n",
       "c    0.836491\n",
       "d    0.091243\n",
       "e    0.733906\n",
       "dtype: float64"
      ]
     },
     "execution_count": 52,
     "metadata": {},
     "output_type": "execute_result"
    }
   ],
   "source": []
  },
  {
   "cell_type": "markdown",
   "metadata": {},
   "source": [
    "#### Creating pandas series from a dictionary"
   ]
  },
  {
   "cell_type": "code",
   "execution_count": 53,
   "metadata": {},
   "outputs": [],
   "source": []
  },
  {
   "cell_type": "code",
   "execution_count": 54,
   "metadata": {},
   "outputs": [
    {
     "data": {
      "text/plain": [
       "a    1\n",
       "b    2\n",
       "c    3\n",
       "d    4\n",
       "dtype: int64"
      ]
     },
     "execution_count": 54,
     "metadata": {},
     "output_type": "execute_result"
    }
   ],
   "source": []
  },
  {
   "cell_type": "markdown",
   "metadata": {},
   "source": [
    "## Data frame\n",
    "DataFrame is a 2D data structure with columns that can be of different datatypes. It\n",
    "can be seen as a table. "
   ]
  },
  {
   "cell_type": "markdown",
   "metadata": {},
   "source": [
    "### Creating dataframe"
   ]
  },
  {
   "cell_type": "markdown",
   "metadata": {},
   "source": [
    "#### From dictionary"
   ]
  },
  {
   "cell_type": "code",
   "execution_count": 60,
   "metadata": {},
   "outputs": [],
   "source": []
  },
  {
   "cell_type": "code",
   "execution_count": 62,
   "metadata": {},
   "outputs": [
    {
     "data": {
      "text/html": [
       "<div>\n",
       "<style scoped>\n",
       "    .dataframe tbody tr th:only-of-type {\n",
       "        vertical-align: middle;\n",
       "    }\n",
       "\n",
       "    .dataframe tbody tr th {\n",
       "        vertical-align: top;\n",
       "    }\n",
       "\n",
       "    .dataframe thead th {\n",
       "        text-align: right;\n",
       "    }\n",
       "</style>\n",
       "<table border=\"1\" class=\"dataframe\">\n",
       "  <thead>\n",
       "    <tr style=\"text-align: right;\">\n",
       "      <th></th>\n",
       "      <th>a1</th>\n",
       "      <th>a2</th>\n",
       "    </tr>\n",
       "  </thead>\n",
       "  <tbody>\n",
       "    <tr>\n",
       "      <th>0</th>\n",
       "      <td>1</td>\n",
       "      <td>a</td>\n",
       "    </tr>\n",
       "    <tr>\n",
       "      <th>1</th>\n",
       "      <td>2</td>\n",
       "      <td>b</td>\n",
       "    </tr>\n",
       "    <tr>\n",
       "      <th>2</th>\n",
       "      <td>3</td>\n",
       "      <td>c</td>\n",
       "    </tr>\n",
       "    <tr>\n",
       "      <th>3</th>\n",
       "      <td>4</td>\n",
       "      <td>d</td>\n",
       "    </tr>\n",
       "    <tr>\n",
       "      <th>4</th>\n",
       "      <td>5</td>\n",
       "      <td>e</td>\n",
       "    </tr>\n",
       "  </tbody>\n",
       "</table>\n",
       "</div>"
      ],
      "text/plain": [
       "   a1 a2\n",
       "0   1  a\n",
       "1   2  b\n",
       "2   3  c\n",
       "3   4  d\n",
       "4   5  e"
      ]
     },
     "execution_count": 62,
     "metadata": {},
     "output_type": "execute_result"
    }
   ],
   "source": []
  },
  {
   "cell_type": "markdown",
   "metadata": {},
   "source": [
    "#### From data series"
   ]
  },
  {
   "cell_type": "code",
   "execution_count": 64,
   "metadata": {},
   "outputs": [],
   "source": []
  },
  {
   "cell_type": "code",
   "execution_count": 65,
   "metadata": {},
   "outputs": [
    {
     "data": {
      "text/html": [
       "<div>\n",
       "<style scoped>\n",
       "    .dataframe tbody tr th:only-of-type {\n",
       "        vertical-align: middle;\n",
       "    }\n",
       "\n",
       "    .dataframe tbody tr th {\n",
       "        vertical-align: top;\n",
       "    }\n",
       "\n",
       "    .dataframe thead th {\n",
       "        text-align: right;\n",
       "    }\n",
       "</style>\n",
       "<table border=\"1\" class=\"dataframe\">\n",
       "  <thead>\n",
       "    <tr style=\"text-align: right;\">\n",
       "      <th></th>\n",
       "      <th>a1</th>\n",
       "      <th>a2</th>\n",
       "    </tr>\n",
       "  </thead>\n",
       "  <tbody>\n",
       "    <tr>\n",
       "      <th>0</th>\n",
       "      <td>1</td>\n",
       "      <td>a</td>\n",
       "    </tr>\n",
       "    <tr>\n",
       "      <th>1</th>\n",
       "      <td>2</td>\n",
       "      <td>b</td>\n",
       "    </tr>\n",
       "    <tr>\n",
       "      <th>2</th>\n",
       "      <td>3</td>\n",
       "      <td>c</td>\n",
       "    </tr>\n",
       "    <tr>\n",
       "      <th>3</th>\n",
       "      <td>4</td>\n",
       "      <td>d</td>\n",
       "    </tr>\n",
       "    <tr>\n",
       "      <th>4</th>\n",
       "      <td>5</td>\n",
       "      <td>NaN</td>\n",
       "    </tr>\n",
       "  </tbody>\n",
       "</table>\n",
       "</div>"
      ],
      "text/plain": [
       "   a1   a2\n",
       "0   1    a\n",
       "1   2    b\n",
       "2   3    c\n",
       "3   4    d\n",
       "4   5  NaN"
      ]
     },
     "execution_count": 65,
     "metadata": {},
     "output_type": "execute_result"
    }
   ],
   "source": []
  },
  {
   "cell_type": "markdown",
   "metadata": {},
   "source": [
    "## Import Pandas"
   ]
  },
  {
   "cell_type": "code",
   "execution_count": 33,
   "metadata": {},
   "outputs": [],
   "source": []
  },
  {
   "cell_type": "markdown",
   "metadata": {},
   "source": [
    "## Get our data"
   ]
  },
  {
   "cell_type": "markdown",
   "metadata": {},
   "source": [
    "To get csv use `pd.read_csv`  \n",
    "To get xlsx(excel) format, use `pd.read_excel`  \n",
    "To get data from database \n",
    "* `pd.read_sql_table`\n",
    "* `pd.read_sql_query`"
   ]
  },
  {
   "cell_type": "code",
   "execution_count": 34,
   "metadata": {},
   "outputs": [],
   "source": []
  },
  {
   "cell_type": "markdown",
   "metadata": {},
   "source": [
    "## Show data"
   ]
  },
  {
   "cell_type": "code",
   "execution_count": 35,
   "metadata": {},
   "outputs": [
    {
     "name": "stdout",
     "output_type": "stream",
     "text": [
      "     RANK                  PLAYER POSITION                    TEAM  \\\n",
      "0       1             Kobe Bryant       SF      Los Angeles Lakers   \n",
      "1       2             Joe Johnson       SF           Brooklyn Nets   \n",
      "2       3            LeBron James       SF     Cleveland Cavaliers   \n",
      "3       4         Carmelo Anthony       SF         New York Knicks   \n",
      "4       5           Dwight Howard        C         Houston Rockets   \n",
      "5       6              Chris Bosh       PF              Miami Heat   \n",
      "6       7              Chris Paul       PG    Los Angeles Clippers   \n",
      "7       8            Kevin Durant       SF   Oklahoma City Thunder   \n",
      "8       9            Derrick Rose       PG           Chicago Bulls   \n",
      "9      10             Dwyane Wade       SG              Miami Heat   \n",
      "10     11       LaMarcus Aldridge       PF       San Antonio Spurs   \n",
      "11     12              Kevin Love       PF     Cleveland Cavaliers   \n",
      "12     13              Marc Gasol        C       Memphis Grizzlies   \n",
      "13     14           Blake Griffin       PF    Los Angeles Clippers   \n",
      "14     15            Paul Millsap       PF           Atlanta Hawks   \n",
      "15     16             Paul George       SF          Indiana Pacers   \n",
      "16     17       Russell Westbrook       PG   Oklahoma City Thunder   \n",
      "17     18            Kyrie Irving       PG     Cleveland Cavaliers   \n",
      "18     19           Kawhi Leonard       SF       San Antonio Spurs   \n",
      "19     20             Enes Kanter        C   Oklahoma City Thunder   \n",
      "20     21            Jimmy Butler       SG           Chicago Bulls   \n",
      "21     22           Tobias Harris       SF           Orlando Magic   \n",
      "22     23               John Wall       PG      Washington Wizards   \n",
      "23     24        DeMarcus Cousins        C        Sacramento Kings   \n",
      "24     25            James Harden       SG         Houston Rockets   \n",
      "25     26             Roy Hibbert        C      Los Angeles Lakers   \n",
      "26     27             Eric Gordon       SG    New Orleans Pelicans   \n",
      "27     28           Klay Thompson       SG   Golden State Warriors   \n",
      "28     29               David Lee       PF        Dallas Mavericks   \n",
      "29     30          Gordon Hayward       SF               Utah Jazz   \n",
      "..    ...                     ...      ...                     ...   \n",
      "387   388            Jarell Eddie       SG      Washington Wizards   \n",
      "388   389        Greg Whittington       SF              Miami Heat   \n",
      "389   390         Josh Richardson       SG              Miami Heat   \n",
      "390   391           Corey Hawkins       PG              Miami Heat   \n",
      "391   392          Aaron Harrison       SG       Charlotte Hornets   \n",
      "392   393           Shannon Scott       PG         Toronto Raptors   \n",
      "393   394      Ronald Roberts Jr.       PF         Toronto Raptors   \n",
      "394   395          Treveon Graham       SG               Utah Jazz   \n",
      "395   396           Jarrid Famous       PF       Memphis Grizzlies   \n",
      "396   397            Luis Montero       SG  Portland Trail Blazers   \n",
      "397   398         Cliff Alexander       PF  Portland Trail Blazers   \n",
      "398   399             Bo McCalebb       PG    New Orleans Pelicans   \n",
      "399   400         Lamar Patterson       SG           Atlanta Hawks   \n",
      "400   401         Terran Petteway       SG           Atlanta Hawks   \n",
      "401   402             Steve Novak       SF   Oklahoma City Thunder   \n",
      "402   403        Anderson Varejao       PF   Golden State Warriors   \n",
      "403   404          JaKarr Sampson       SG      Philadelphia 76ers   \n",
      "404   405      Bryce Dejean-Jones       SG    New Orleans Pelicans   \n",
      "405   406           Lorenzo Brown       PG            Phoenix Suns   \n",
      "406   407            Ryan Hollins        C       Memphis Grizzlies   \n",
      "407   408              Jeff Ayres       PF    Los Angeles Clippers   \n",
      "408   409             Erick Green       PG               Utah Jazz   \n",
      "409   410         Sean Kilpatrick       SG          Denver Nuggets   \n",
      "410   411           Keith Appling       PG           Orlando Magic   \n",
      "411   412         Orlando Johnson       SG            Phoenix Suns   \n",
      "412   413         Elliot Williams       SG       Memphis Grizzlies   \n",
      "413   414            Phil Pressey       PG            Phoenix Suns   \n",
      "414   415            Jordan McRae       SG            Phoenix Suns   \n",
      "415   416          Cory Jefferson       PF            Phoenix Suns   \n",
      "416   417  Thanasis Antetokounmpo       SF         New York Knicks   \n",
      "\n",
      "     SALARY ($M)  \n",
      "0      25.000000  \n",
      "1      24.894863  \n",
      "2      22.970500  \n",
      "3      22.875000  \n",
      "4      22.359364  \n",
      "5      22.192730  \n",
      "6      21.468695  \n",
      "7      20.158622  \n",
      "8      20.093064  \n",
      "9      20.000000  \n",
      "10     19.689000  \n",
      "11     19.689000  \n",
      "12     19.688000  \n",
      "13     18.907726  \n",
      "14     18.671659  \n",
      "15     17.120106  \n",
      "16     16.744218  \n",
      "17     16.407501  \n",
      "18     16.407500  \n",
      "19     16.407500  \n",
      "20     16.407500  \n",
      "21     16.000000  \n",
      "22     15.851950  \n",
      "23     15.851950  \n",
      "24     15.756438  \n",
      "25     15.592217  \n",
      "26     15.514031  \n",
      "27     15.501000  \n",
      "28     15.493680  \n",
      "29     15.409570  \n",
      "..           ...  \n",
      "387     0.561716  \n",
      "388     0.525093  \n",
      "389     0.525093  \n",
      "390     0.525093  \n",
      "391     0.525093  \n",
      "392     0.525093  \n",
      "393     0.525093  \n",
      "394     0.525093  \n",
      "395     0.525093  \n",
      "396     0.525093  \n",
      "397     0.525093  \n",
      "398     0.525093  \n",
      "399     0.525093  \n",
      "400     0.525093  \n",
      "401     0.289755  \n",
      "402     0.289755  \n",
      "403     0.258489  \n",
      "404     0.169883  \n",
      "405     0.111444  \n",
      "406     0.111444  \n",
      "407     0.111444  \n",
      "408     0.099418  \n",
      "409     0.099418  \n",
      "410     0.061776  \n",
      "411     0.055722  \n",
      "412     0.055722  \n",
      "413     0.055722  \n",
      "414     0.049709  \n",
      "415     0.049709  \n",
      "416     0.030888  \n",
      "\n",
      "[417 rows x 5 columns]\n"
     ]
    }
   ],
   "source": []
  },
  {
   "cell_type": "markdown",
   "metadata": {},
   "source": [
    "## Limit amount to display"
   ]
  },
  {
   "cell_type": "code",
   "execution_count": 36,
   "metadata": {},
   "outputs": [
    {
     "data": {
      "text/html": [
       "<div>\n",
       "<style scoped>\n",
       "    .dataframe tbody tr th:only-of-type {\n",
       "        vertical-align: middle;\n",
       "    }\n",
       "\n",
       "    .dataframe tbody tr th {\n",
       "        vertical-align: top;\n",
       "    }\n",
       "\n",
       "    .dataframe thead th {\n",
       "        text-align: right;\n",
       "    }\n",
       "</style>\n",
       "<table border=\"1\" class=\"dataframe\">\n",
       "  <thead>\n",
       "    <tr style=\"text-align: right;\">\n",
       "      <th></th>\n",
       "      <th>RANK</th>\n",
       "      <th>PLAYER</th>\n",
       "      <th>POSITION</th>\n",
       "      <th>TEAM</th>\n",
       "      <th>SALARY ($M)</th>\n",
       "    </tr>\n",
       "  </thead>\n",
       "  <tbody>\n",
       "    <tr>\n",
       "      <th>0</th>\n",
       "      <td>1</td>\n",
       "      <td>Kobe Bryant</td>\n",
       "      <td>SF</td>\n",
       "      <td>Los Angeles Lakers</td>\n",
       "      <td>25.000000</td>\n",
       "    </tr>\n",
       "    <tr>\n",
       "      <th>1</th>\n",
       "      <td>2</td>\n",
       "      <td>Joe Johnson</td>\n",
       "      <td>SF</td>\n",
       "      <td>Brooklyn Nets</td>\n",
       "      <td>24.894863</td>\n",
       "    </tr>\n",
       "    <tr>\n",
       "      <th>2</th>\n",
       "      <td>3</td>\n",
       "      <td>LeBron James</td>\n",
       "      <td>SF</td>\n",
       "      <td>Cleveland Cavaliers</td>\n",
       "      <td>22.970500</td>\n",
       "    </tr>\n",
       "    <tr>\n",
       "      <th>3</th>\n",
       "      <td>4</td>\n",
       "      <td>Carmelo Anthony</td>\n",
       "      <td>SF</td>\n",
       "      <td>New York Knicks</td>\n",
       "      <td>22.875000</td>\n",
       "    </tr>\n",
       "    <tr>\n",
       "      <th>4</th>\n",
       "      <td>5</td>\n",
       "      <td>Dwight Howard</td>\n",
       "      <td>C</td>\n",
       "      <td>Houston Rockets</td>\n",
       "      <td>22.359364</td>\n",
       "    </tr>\n",
       "  </tbody>\n",
       "</table>\n",
       "</div>"
      ],
      "text/plain": [
       "   RANK           PLAYER POSITION                 TEAM  SALARY ($M)\n",
       "0     1      Kobe Bryant       SF   Los Angeles Lakers    25.000000\n",
       "1     2      Joe Johnson       SF        Brooklyn Nets    24.894863\n",
       "2     3     LeBron James       SF  Cleveland Cavaliers    22.970500\n",
       "3     4  Carmelo Anthony       SF      New York Knicks    22.875000\n",
       "4     5    Dwight Howard        C      Houston Rockets    22.359364"
      ]
     },
     "execution_count": 36,
     "metadata": {},
     "output_type": "execute_result"
    }
   ],
   "source": []
  },
  {
   "cell_type": "markdown",
   "metadata": {},
   "source": [
    "## Data type"
   ]
  },
  {
   "cell_type": "code",
   "execution_count": 37,
   "metadata": {},
   "outputs": [
    {
     "data": {
      "text/plain": [
       "RANK             int64\n",
       "PLAYER          object\n",
       "POSITION        object\n",
       "TEAM            object\n",
       "SALARY ($M)    float64\n",
       "dtype: object"
      ]
     },
     "execution_count": 37,
     "metadata": {},
     "output_type": "execute_result"
    }
   ],
   "source": []
  },
  {
   "cell_type": "markdown",
   "metadata": {},
   "source": [
    "## The columns"
   ]
  },
  {
   "cell_type": "code",
   "execution_count": 38,
   "metadata": {},
   "outputs": [
    {
     "data": {
      "text/plain": [
       "Index(['RANK', 'PLAYER', 'POSITION', 'TEAM', 'SALARY ($M)'], dtype='object')"
      ]
     },
     "execution_count": 38,
     "metadata": {},
     "output_type": "execute_result"
    }
   ],
   "source": []
  },
  {
   "cell_type": "markdown",
   "metadata": {},
   "source": [
    "## Selecting a single column"
   ]
  },
  {
   "cell_type": "markdown",
   "metadata": {},
   "source": [
    "### Square bracket"
   ]
  },
  {
   "cell_type": "code",
   "execution_count": 39,
   "metadata": {},
   "outputs": [
    {
     "data": {
      "text/plain": [
       "0        Kobe Bryant\n",
       "1        Joe Johnson\n",
       "2       LeBron James\n",
       "3    Carmelo Anthony\n",
       "4      Dwight Howard\n",
       "Name: PLAYER, dtype: object"
      ]
     },
     "execution_count": 39,
     "metadata": {},
     "output_type": "execute_result"
    }
   ],
   "source": []
  },
  {
   "cell_type": "markdown",
   "metadata": {},
   "source": [
    "### Dot"
   ]
  },
  {
   "cell_type": "code",
   "execution_count": 40,
   "metadata": {},
   "outputs": [
    {
     "data": {
      "text/plain": [
       "0        Kobe Bryant\n",
       "1        Joe Johnson\n",
       "2       LeBron James\n",
       "3    Carmelo Anthony\n",
       "4      Dwight Howard\n",
       "Name: PLAYER, dtype: object"
      ]
     },
     "execution_count": 40,
     "metadata": {},
     "output_type": "execute_result"
    }
   ],
   "source": []
  },
  {
   "cell_type": "markdown",
   "metadata": {},
   "source": [
    "## Selecting multiply roles"
   ]
  },
  {
   "cell_type": "code",
   "execution_count": 41,
   "metadata": {},
   "outputs": [
    {
     "data": {
      "text/html": [
       "<div>\n",
       "<style scoped>\n",
       "    .dataframe tbody tr th:only-of-type {\n",
       "        vertical-align: middle;\n",
       "    }\n",
       "\n",
       "    .dataframe tbody tr th {\n",
       "        vertical-align: top;\n",
       "    }\n",
       "\n",
       "    .dataframe thead th {\n",
       "        text-align: right;\n",
       "    }\n",
       "</style>\n",
       "<table border=\"1\" class=\"dataframe\">\n",
       "  <thead>\n",
       "    <tr style=\"text-align: right;\">\n",
       "      <th></th>\n",
       "      <th>RANK</th>\n",
       "      <th>PLAYER</th>\n",
       "      <th>SALARY ($M)</th>\n",
       "    </tr>\n",
       "  </thead>\n",
       "  <tbody>\n",
       "    <tr>\n",
       "      <th>0</th>\n",
       "      <td>1</td>\n",
       "      <td>Kobe Bryant</td>\n",
       "      <td>25.000000</td>\n",
       "    </tr>\n",
       "    <tr>\n",
       "      <th>1</th>\n",
       "      <td>2</td>\n",
       "      <td>Joe Johnson</td>\n",
       "      <td>24.894863</td>\n",
       "    </tr>\n",
       "    <tr>\n",
       "      <th>2</th>\n",
       "      <td>3</td>\n",
       "      <td>LeBron James</td>\n",
       "      <td>22.970500</td>\n",
       "    </tr>\n",
       "    <tr>\n",
       "      <th>3</th>\n",
       "      <td>4</td>\n",
       "      <td>Carmelo Anthony</td>\n",
       "      <td>22.875000</td>\n",
       "    </tr>\n",
       "    <tr>\n",
       "      <th>4</th>\n",
       "      <td>5</td>\n",
       "      <td>Dwight Howard</td>\n",
       "      <td>22.359364</td>\n",
       "    </tr>\n",
       "    <tr>\n",
       "      <th>5</th>\n",
       "      <td>6</td>\n",
       "      <td>Chris Bosh</td>\n",
       "      <td>22.192730</td>\n",
       "    </tr>\n",
       "    <tr>\n",
       "      <th>6</th>\n",
       "      <td>7</td>\n",
       "      <td>Chris Paul</td>\n",
       "      <td>21.468695</td>\n",
       "    </tr>\n",
       "    <tr>\n",
       "      <th>7</th>\n",
       "      <td>8</td>\n",
       "      <td>Kevin Durant</td>\n",
       "      <td>20.158622</td>\n",
       "    </tr>\n",
       "    <tr>\n",
       "      <th>8</th>\n",
       "      <td>9</td>\n",
       "      <td>Derrick Rose</td>\n",
       "      <td>20.093064</td>\n",
       "    </tr>\n",
       "    <tr>\n",
       "      <th>9</th>\n",
       "      <td>10</td>\n",
       "      <td>Dwyane Wade</td>\n",
       "      <td>20.000000</td>\n",
       "    </tr>\n",
       "  </tbody>\n",
       "</table>\n",
       "</div>"
      ],
      "text/plain": [
       "   RANK           PLAYER  SALARY ($M)\n",
       "0     1      Kobe Bryant    25.000000\n",
       "1     2      Joe Johnson    24.894863\n",
       "2     3     LeBron James    22.970500\n",
       "3     4  Carmelo Anthony    22.875000\n",
       "4     5    Dwight Howard    22.359364\n",
       "5     6       Chris Bosh    22.192730\n",
       "6     7       Chris Paul    21.468695\n",
       "7     8     Kevin Durant    20.158622\n",
       "8     9     Derrick Rose    20.093064\n",
       "9    10      Dwyane Wade    20.000000"
      ]
     },
     "execution_count": 41,
     "metadata": {},
     "output_type": "execute_result"
    }
   ],
   "source": []
  },
  {
   "cell_type": "markdown",
   "metadata": {},
   "source": [
    "## Selecting Rows"
   ]
  },
  {
   "cell_type": "code",
   "execution_count": 42,
   "metadata": {},
   "outputs": [
    {
     "data": {
      "text/plain": [
       "RANK                    10\n",
       "PLAYER         Dwyane Wade\n",
       "POSITION                SG\n",
       "TEAM            Miami Heat\n",
       "SALARY ($M)             20\n",
       "Name: 9, dtype: object"
      ]
     },
     "execution_count": 42,
     "metadata": {},
     "output_type": "execute_result"
    }
   ],
   "source": []
  },
  {
   "cell_type": "markdown",
   "metadata": {},
   "source": [
    "## Create a new column"
   ]
  },
  {
   "cell_type": "code",
   "execution_count": 43,
   "metadata": {},
   "outputs": [
    {
     "data": {
      "text/html": [
       "<div>\n",
       "<style scoped>\n",
       "    .dataframe tbody tr th:only-of-type {\n",
       "        vertical-align: middle;\n",
       "    }\n",
       "\n",
       "    .dataframe tbody tr th {\n",
       "        vertical-align: top;\n",
       "    }\n",
       "\n",
       "    .dataframe thead th {\n",
       "        text-align: right;\n",
       "    }\n",
       "</style>\n",
       "<table border=\"1\" class=\"dataframe\">\n",
       "  <thead>\n",
       "    <tr style=\"text-align: right;\">\n",
       "      <th></th>\n",
       "      <th>RANK</th>\n",
       "      <th>PLAYER</th>\n",
       "      <th>POSITION</th>\n",
       "      <th>TEAM</th>\n",
       "      <th>SALARY ($M)</th>\n",
       "      <th>SOME STUFF</th>\n",
       "    </tr>\n",
       "  </thead>\n",
       "  <tbody>\n",
       "    <tr>\n",
       "      <th>0</th>\n",
       "      <td>1</td>\n",
       "      <td>Kobe Bryant</td>\n",
       "      <td>SF</td>\n",
       "      <td>Los Angeles Lakers</td>\n",
       "      <td>25.000000</td>\n",
       "      <td>20</td>\n",
       "    </tr>\n",
       "    <tr>\n",
       "      <th>1</th>\n",
       "      <td>2</td>\n",
       "      <td>Joe Johnson</td>\n",
       "      <td>SF</td>\n",
       "      <td>Brooklyn Nets</td>\n",
       "      <td>24.894863</td>\n",
       "      <td>20</td>\n",
       "    </tr>\n",
       "    <tr>\n",
       "      <th>2</th>\n",
       "      <td>3</td>\n",
       "      <td>LeBron James</td>\n",
       "      <td>SF</td>\n",
       "      <td>Cleveland Cavaliers</td>\n",
       "      <td>22.970500</td>\n",
       "      <td>20</td>\n",
       "    </tr>\n",
       "    <tr>\n",
       "      <th>3</th>\n",
       "      <td>4</td>\n",
       "      <td>Carmelo Anthony</td>\n",
       "      <td>SF</td>\n",
       "      <td>New York Knicks</td>\n",
       "      <td>22.875000</td>\n",
       "      <td>20</td>\n",
       "    </tr>\n",
       "    <tr>\n",
       "      <th>4</th>\n",
       "      <td>5</td>\n",
       "      <td>Dwight Howard</td>\n",
       "      <td>C</td>\n",
       "      <td>Houston Rockets</td>\n",
       "      <td>22.359364</td>\n",
       "      <td>20</td>\n",
       "    </tr>\n",
       "  </tbody>\n",
       "</table>\n",
       "</div>"
      ],
      "text/plain": [
       "   RANK           PLAYER POSITION                 TEAM  SALARY ($M)  \\\n",
       "0     1      Kobe Bryant       SF   Los Angeles Lakers    25.000000   \n",
       "1     2      Joe Johnson       SF        Brooklyn Nets    24.894863   \n",
       "2     3     LeBron James       SF  Cleveland Cavaliers    22.970500   \n",
       "3     4  Carmelo Anthony       SF      New York Knicks    22.875000   \n",
       "4     5    Dwight Howard        C      Houston Rockets    22.359364   \n",
       "\n",
       "   SOME STUFF  \n",
       "0          20  \n",
       "1          20  \n",
       "2          20  \n",
       "3          20  \n",
       "4          20  "
      ]
     },
     "execution_count": 43,
     "metadata": {},
     "output_type": "execute_result"
    }
   ],
   "source": []
  },
  {
   "cell_type": "markdown",
   "metadata": {},
   "source": [
    "## Remove columns"
   ]
  },
  {
   "cell_type": "code",
   "execution_count": 44,
   "metadata": {},
   "outputs": [
    {
     "data": {
      "text/html": [
       "<div>\n",
       "<style scoped>\n",
       "    .dataframe tbody tr th:only-of-type {\n",
       "        vertical-align: middle;\n",
       "    }\n",
       "\n",
       "    .dataframe tbody tr th {\n",
       "        vertical-align: top;\n",
       "    }\n",
       "\n",
       "    .dataframe thead th {\n",
       "        text-align: right;\n",
       "    }\n",
       "</style>\n",
       "<table border=\"1\" class=\"dataframe\">\n",
       "  <thead>\n",
       "    <tr style=\"text-align: right;\">\n",
       "      <th></th>\n",
       "      <th>RANK</th>\n",
       "      <th>PLAYER</th>\n",
       "      <th>POSITION</th>\n",
       "      <th>TEAM</th>\n",
       "      <th>SALARY ($M)</th>\n",
       "    </tr>\n",
       "  </thead>\n",
       "  <tbody>\n",
       "    <tr>\n",
       "      <th>0</th>\n",
       "      <td>1</td>\n",
       "      <td>Kobe Bryant</td>\n",
       "      <td>SF</td>\n",
       "      <td>Los Angeles Lakers</td>\n",
       "      <td>25.000000</td>\n",
       "    </tr>\n",
       "    <tr>\n",
       "      <th>1</th>\n",
       "      <td>2</td>\n",
       "      <td>Joe Johnson</td>\n",
       "      <td>SF</td>\n",
       "      <td>Brooklyn Nets</td>\n",
       "      <td>24.894863</td>\n",
       "    </tr>\n",
       "    <tr>\n",
       "      <th>2</th>\n",
       "      <td>3</td>\n",
       "      <td>LeBron James</td>\n",
       "      <td>SF</td>\n",
       "      <td>Cleveland Cavaliers</td>\n",
       "      <td>22.970500</td>\n",
       "    </tr>\n",
       "    <tr>\n",
       "      <th>3</th>\n",
       "      <td>4</td>\n",
       "      <td>Carmelo Anthony</td>\n",
       "      <td>SF</td>\n",
       "      <td>New York Knicks</td>\n",
       "      <td>22.875000</td>\n",
       "    </tr>\n",
       "    <tr>\n",
       "      <th>4</th>\n",
       "      <td>5</td>\n",
       "      <td>Dwight Howard</td>\n",
       "      <td>C</td>\n",
       "      <td>Houston Rockets</td>\n",
       "      <td>22.359364</td>\n",
       "    </tr>\n",
       "  </tbody>\n",
       "</table>\n",
       "</div>"
      ],
      "text/plain": [
       "   RANK           PLAYER POSITION                 TEAM  SALARY ($M)\n",
       "0     1      Kobe Bryant       SF   Los Angeles Lakers    25.000000\n",
       "1     2      Joe Johnson       SF        Brooklyn Nets    24.894863\n",
       "2     3     LeBron James       SF  Cleveland Cavaliers    22.970500\n",
       "3     4  Carmelo Anthony       SF      New York Knicks    22.875000\n",
       "4     5    Dwight Howard        C      Houston Rockets    22.359364"
      ]
     },
     "execution_count": 44,
     "metadata": {},
     "output_type": "execute_result"
    }
   ],
   "source": []
  },
  {
   "cell_type": "markdown",
   "metadata": {},
   "source": [
    "## Engineering age"
   ]
  },
  {
   "cell_type": "markdown",
   "metadata": {},
   "source": [
    "### Shape of the data"
   ]
  },
  {
   "cell_type": "code",
   "execution_count": 45,
   "metadata": {},
   "outputs": [
    {
     "data": {
      "text/plain": [
       "(417, 5)"
      ]
     },
     "execution_count": 45,
     "metadata": {},
     "output_type": "execute_result"
    }
   ],
   "source": []
  },
  {
   "cell_type": "markdown",
   "metadata": {},
   "source": [
    "### Generate random values"
   ]
  },
  {
   "cell_type": "code",
   "execution_count": 46,
   "metadata": {},
   "outputs": [
    {
     "data": {
      "text/plain": [
       "array([42, 26, 27, 39, 21, 29, 34, 21, 41, 44])"
      ]
     },
     "execution_count": 46,
     "metadata": {},
     "output_type": "execute_result"
    }
   ],
   "source": []
  },
  {
   "cell_type": "code",
   "execution_count": 47,
   "metadata": {},
   "outputs": [
    {
     "data": {
      "text/plain": [
       "(417,)"
      ]
     },
     "execution_count": 47,
     "metadata": {},
     "output_type": "execute_result"
    }
   ],
   "source": []
  },
  {
   "cell_type": "code",
   "execution_count": 48,
   "metadata": {},
   "outputs": [
    {
     "data": {
      "text/plain": [
       "array([32, 35, 21, 47, 19, 38, 22, 42, 45, 31])"
      ]
     },
     "execution_count": 48,
     "metadata": {},
     "output_type": "execute_result"
    }
   ],
   "source": []
  },
  {
   "cell_type": "code",
   "execution_count": 49,
   "metadata": {},
   "outputs": [
    {
     "data": {
      "text/plain": [
       "(417,)"
      ]
     },
     "execution_count": 49,
     "metadata": {},
     "output_type": "execute_result"
    }
   ],
   "source": []
  },
  {
   "cell_type": "code",
   "execution_count": 67,
   "metadata": {},
   "outputs": [
    {
     "data": {
      "text/html": [
       "<div>\n",
       "<style scoped>\n",
       "    .dataframe tbody tr th:only-of-type {\n",
       "        vertical-align: middle;\n",
       "    }\n",
       "\n",
       "    .dataframe tbody tr th {\n",
       "        vertical-align: top;\n",
       "    }\n",
       "\n",
       "    .dataframe thead th {\n",
       "        text-align: right;\n",
       "    }\n",
       "</style>\n",
       "<table border=\"1\" class=\"dataframe\">\n",
       "  <thead>\n",
       "    <tr style=\"text-align: right;\">\n",
       "      <th></th>\n",
       "      <th>RANK</th>\n",
       "      <th>PLAYER</th>\n",
       "      <th>POSITION</th>\n",
       "      <th>TEAM</th>\n",
       "      <th>SALARY ($M)</th>\n",
       "      <th>AGE</th>\n",
       "    </tr>\n",
       "  </thead>\n",
       "  <tbody>\n",
       "    <tr>\n",
       "      <th>0</th>\n",
       "      <td>1</td>\n",
       "      <td>Kobe Bryant</td>\n",
       "      <td>SF</td>\n",
       "      <td>Los Angeles Lakers</td>\n",
       "      <td>25.000000</td>\n",
       "      <td>32</td>\n",
       "    </tr>\n",
       "    <tr>\n",
       "      <th>1</th>\n",
       "      <td>2</td>\n",
       "      <td>Joe Johnson</td>\n",
       "      <td>SF</td>\n",
       "      <td>Brooklyn Nets</td>\n",
       "      <td>24.894863</td>\n",
       "      <td>35</td>\n",
       "    </tr>\n",
       "    <tr>\n",
       "      <th>2</th>\n",
       "      <td>3</td>\n",
       "      <td>LeBron James</td>\n",
       "      <td>SF</td>\n",
       "      <td>Cleveland Cavaliers</td>\n",
       "      <td>22.970500</td>\n",
       "      <td>21</td>\n",
       "    </tr>\n",
       "    <tr>\n",
       "      <th>3</th>\n",
       "      <td>4</td>\n",
       "      <td>Carmelo Anthony</td>\n",
       "      <td>SF</td>\n",
       "      <td>New York Knicks</td>\n",
       "      <td>22.875000</td>\n",
       "      <td>47</td>\n",
       "    </tr>\n",
       "    <tr>\n",
       "      <th>4</th>\n",
       "      <td>5</td>\n",
       "      <td>Dwight Howard</td>\n",
       "      <td>C</td>\n",
       "      <td>Houston Rockets</td>\n",
       "      <td>22.359364</td>\n",
       "      <td>19</td>\n",
       "    </tr>\n",
       "  </tbody>\n",
       "</table>\n",
       "</div>"
      ],
      "text/plain": [
       "   RANK           PLAYER POSITION                 TEAM  SALARY ($M)  AGE\n",
       "0     1      Kobe Bryant       SF   Los Angeles Lakers    25.000000   32\n",
       "1     2      Joe Johnson       SF        Brooklyn Nets    24.894863   35\n",
       "2     3     LeBron James       SF  Cleveland Cavaliers    22.970500   21\n",
       "3     4  Carmelo Anthony       SF      New York Knicks    22.875000   47\n",
       "4     5    Dwight Howard        C      Houston Rockets    22.359364   19"
      ]
     },
     "execution_count": 67,
     "metadata": {},
     "output_type": "execute_result"
    }
   ],
   "source": []
  },
  {
   "cell_type": "markdown",
   "metadata": {},
   "source": [
    "## Create new row"
   ]
  },
  {
   "cell_type": "markdown",
   "metadata": {},
   "source": [
    "#### Create new dataframe"
   ]
  },
  {
   "cell_type": "code",
   "execution_count": 79,
   "metadata": {},
   "outputs": [],
   "source": []
  },
  {
   "cell_type": "markdown",
   "metadata": {},
   "source": [
    "#### Convert to dataframe"
   ]
  },
  {
   "cell_type": "code",
   "execution_count": 80,
   "metadata": {},
   "outputs": [
    {
     "data": {
      "text/html": [
       "<div>\n",
       "<style scoped>\n",
       "    .dataframe tbody tr th:only-of-type {\n",
       "        vertical-align: middle;\n",
       "    }\n",
       "\n",
       "    .dataframe tbody tr th {\n",
       "        vertical-align: top;\n",
       "    }\n",
       "\n",
       "    .dataframe thead th {\n",
       "        text-align: right;\n",
       "    }\n",
       "</style>\n",
       "<table border=\"1\" class=\"dataframe\">\n",
       "  <thead>\n",
       "    <tr style=\"text-align: right;\">\n",
       "      <th></th>\n",
       "      <th>RANK</th>\n",
       "      <th>PLAYER</th>\n",
       "      <th>TEAM</th>\n",
       "      <th>SALARY ($M)</th>\n",
       "    </tr>\n",
       "  </thead>\n",
       "  <tbody>\n",
       "    <tr>\n",
       "      <th>0</th>\n",
       "      <td>418</td>\n",
       "      <td>Solomon Igori</td>\n",
       "      <td>PDC</td>\n",
       "      <td>30.0</td>\n",
       "    </tr>\n",
       "  </tbody>\n",
       "</table>\n",
       "</div>"
      ],
      "text/plain": [
       "   RANK         PLAYER TEAM  SALARY ($M)\n",
       "0   418  Solomon Igori  PDC         30.0"
      ]
     },
     "execution_count": 80,
     "metadata": {},
     "output_type": "execute_result"
    }
   ],
   "source": []
  },
  {
   "cell_type": "code",
   "execution_count": 81,
   "metadata": {},
   "outputs": [
    {
     "data": {
      "text/html": [
       "<div>\n",
       "<style scoped>\n",
       "    .dataframe tbody tr th:only-of-type {\n",
       "        vertical-align: middle;\n",
       "    }\n",
       "\n",
       "    .dataframe tbody tr th {\n",
       "        vertical-align: top;\n",
       "    }\n",
       "\n",
       "    .dataframe thead th {\n",
       "        text-align: right;\n",
       "    }\n",
       "</style>\n",
       "<table border=\"1\" class=\"dataframe\">\n",
       "  <thead>\n",
       "    <tr style=\"text-align: right;\">\n",
       "      <th></th>\n",
       "      <th>AGE</th>\n",
       "      <th>PLAYER</th>\n",
       "      <th>POSITION</th>\n",
       "      <th>RANK</th>\n",
       "      <th>SALARY ($M)</th>\n",
       "      <th>TEAM</th>\n",
       "    </tr>\n",
       "  </thead>\n",
       "  <tbody>\n",
       "    <tr>\n",
       "      <th>0</th>\n",
       "      <td>NaN</td>\n",
       "      <td>Solomon Igori</td>\n",
       "      <td>NaN</td>\n",
       "      <td>418</td>\n",
       "      <td>30.000000</td>\n",
       "      <td>PDC</td>\n",
       "    </tr>\n",
       "    <tr>\n",
       "      <th>1</th>\n",
       "      <td>32.0</td>\n",
       "      <td>Kobe Bryant</td>\n",
       "      <td>SF</td>\n",
       "      <td>1</td>\n",
       "      <td>25.000000</td>\n",
       "      <td>Los Angeles Lakers</td>\n",
       "    </tr>\n",
       "    <tr>\n",
       "      <th>2</th>\n",
       "      <td>35.0</td>\n",
       "      <td>Joe Johnson</td>\n",
       "      <td>SF</td>\n",
       "      <td>2</td>\n",
       "      <td>24.894863</td>\n",
       "      <td>Brooklyn Nets</td>\n",
       "    </tr>\n",
       "    <tr>\n",
       "      <th>3</th>\n",
       "      <td>21.0</td>\n",
       "      <td>LeBron James</td>\n",
       "      <td>SF</td>\n",
       "      <td>3</td>\n",
       "      <td>22.970500</td>\n",
       "      <td>Cleveland Cavaliers</td>\n",
       "    </tr>\n",
       "    <tr>\n",
       "      <th>4</th>\n",
       "      <td>47.0</td>\n",
       "      <td>Carmelo Anthony</td>\n",
       "      <td>SF</td>\n",
       "      <td>4</td>\n",
       "      <td>22.875000</td>\n",
       "      <td>New York Knicks</td>\n",
       "    </tr>\n",
       "    <tr>\n",
       "      <th>5</th>\n",
       "      <td>19.0</td>\n",
       "      <td>Dwight Howard</td>\n",
       "      <td>C</td>\n",
       "      <td>5</td>\n",
       "      <td>22.359364</td>\n",
       "      <td>Houston Rockets</td>\n",
       "    </tr>\n",
       "    <tr>\n",
       "      <th>6</th>\n",
       "      <td>38.0</td>\n",
       "      <td>Chris Bosh</td>\n",
       "      <td>PF</td>\n",
       "      <td>6</td>\n",
       "      <td>22.192730</td>\n",
       "      <td>Miami Heat</td>\n",
       "    </tr>\n",
       "    <tr>\n",
       "      <th>7</th>\n",
       "      <td>22.0</td>\n",
       "      <td>Chris Paul</td>\n",
       "      <td>PG</td>\n",
       "      <td>7</td>\n",
       "      <td>21.468695</td>\n",
       "      <td>Los Angeles Clippers</td>\n",
       "    </tr>\n",
       "    <tr>\n",
       "      <th>8</th>\n",
       "      <td>42.0</td>\n",
       "      <td>Kevin Durant</td>\n",
       "      <td>SF</td>\n",
       "      <td>8</td>\n",
       "      <td>20.158622</td>\n",
       "      <td>Oklahoma City Thunder</td>\n",
       "    </tr>\n",
       "    <tr>\n",
       "      <th>9</th>\n",
       "      <td>45.0</td>\n",
       "      <td>Derrick Rose</td>\n",
       "      <td>PG</td>\n",
       "      <td>9</td>\n",
       "      <td>20.093064</td>\n",
       "      <td>Chicago Bulls</td>\n",
       "    </tr>\n",
       "    <tr>\n",
       "      <th>10</th>\n",
       "      <td>31.0</td>\n",
       "      <td>Dwyane Wade</td>\n",
       "      <td>SG</td>\n",
       "      <td>10</td>\n",
       "      <td>20.000000</td>\n",
       "      <td>Miami Heat</td>\n",
       "    </tr>\n",
       "    <tr>\n",
       "      <th>11</th>\n",
       "      <td>21.0</td>\n",
       "      <td>LaMarcus Aldridge</td>\n",
       "      <td>PF</td>\n",
       "      <td>11</td>\n",
       "      <td>19.689000</td>\n",
       "      <td>San Antonio Spurs</td>\n",
       "    </tr>\n",
       "    <tr>\n",
       "      <th>12</th>\n",
       "      <td>23.0</td>\n",
       "      <td>Kevin Love</td>\n",
       "      <td>PF</td>\n",
       "      <td>12</td>\n",
       "      <td>19.689000</td>\n",
       "      <td>Cleveland Cavaliers</td>\n",
       "    </tr>\n",
       "    <tr>\n",
       "      <th>13</th>\n",
       "      <td>23.0</td>\n",
       "      <td>Marc Gasol</td>\n",
       "      <td>C</td>\n",
       "      <td>13</td>\n",
       "      <td>19.688000</td>\n",
       "      <td>Memphis Grizzlies</td>\n",
       "    </tr>\n",
       "    <tr>\n",
       "      <th>14</th>\n",
       "      <td>36.0</td>\n",
       "      <td>Blake Griffin</td>\n",
       "      <td>PF</td>\n",
       "      <td>14</td>\n",
       "      <td>18.907726</td>\n",
       "      <td>Los Angeles Clippers</td>\n",
       "    </tr>\n",
       "    <tr>\n",
       "      <th>15</th>\n",
       "      <td>19.0</td>\n",
       "      <td>Paul Millsap</td>\n",
       "      <td>PF</td>\n",
       "      <td>15</td>\n",
       "      <td>18.671659</td>\n",
       "      <td>Atlanta Hawks</td>\n",
       "    </tr>\n",
       "    <tr>\n",
       "      <th>16</th>\n",
       "      <td>37.0</td>\n",
       "      <td>Paul George</td>\n",
       "      <td>SF</td>\n",
       "      <td>16</td>\n",
       "      <td>17.120106</td>\n",
       "      <td>Indiana Pacers</td>\n",
       "    </tr>\n",
       "    <tr>\n",
       "      <th>17</th>\n",
       "      <td>30.0</td>\n",
       "      <td>Russell Westbrook</td>\n",
       "      <td>PG</td>\n",
       "      <td>17</td>\n",
       "      <td>16.744218</td>\n",
       "      <td>Oklahoma City Thunder</td>\n",
       "    </tr>\n",
       "    <tr>\n",
       "      <th>18</th>\n",
       "      <td>21.0</td>\n",
       "      <td>Kyrie Irving</td>\n",
       "      <td>PG</td>\n",
       "      <td>18</td>\n",
       "      <td>16.407501</td>\n",
       "      <td>Cleveland Cavaliers</td>\n",
       "    </tr>\n",
       "    <tr>\n",
       "      <th>19</th>\n",
       "      <td>45.0</td>\n",
       "      <td>Kawhi Leonard</td>\n",
       "      <td>SF</td>\n",
       "      <td>19</td>\n",
       "      <td>16.407500</td>\n",
       "      <td>San Antonio Spurs</td>\n",
       "    </tr>\n",
       "    <tr>\n",
       "      <th>20</th>\n",
       "      <td>38.0</td>\n",
       "      <td>Enes Kanter</td>\n",
       "      <td>C</td>\n",
       "      <td>20</td>\n",
       "      <td>16.407500</td>\n",
       "      <td>Oklahoma City Thunder</td>\n",
       "    </tr>\n",
       "    <tr>\n",
       "      <th>21</th>\n",
       "      <td>49.0</td>\n",
       "      <td>Jimmy Butler</td>\n",
       "      <td>SG</td>\n",
       "      <td>21</td>\n",
       "      <td>16.407500</td>\n",
       "      <td>Chicago Bulls</td>\n",
       "    </tr>\n",
       "    <tr>\n",
       "      <th>22</th>\n",
       "      <td>29.0</td>\n",
       "      <td>Tobias Harris</td>\n",
       "      <td>SF</td>\n",
       "      <td>22</td>\n",
       "      <td>16.000000</td>\n",
       "      <td>Orlando Magic</td>\n",
       "    </tr>\n",
       "    <tr>\n",
       "      <th>23</th>\n",
       "      <td>25.0</td>\n",
       "      <td>John Wall</td>\n",
       "      <td>PG</td>\n",
       "      <td>23</td>\n",
       "      <td>15.851950</td>\n",
       "      <td>Washington Wizards</td>\n",
       "    </tr>\n",
       "    <tr>\n",
       "      <th>24</th>\n",
       "      <td>34.0</td>\n",
       "      <td>DeMarcus Cousins</td>\n",
       "      <td>C</td>\n",
       "      <td>24</td>\n",
       "      <td>15.851950</td>\n",
       "      <td>Sacramento Kings</td>\n",
       "    </tr>\n",
       "    <tr>\n",
       "      <th>25</th>\n",
       "      <td>31.0</td>\n",
       "      <td>James Harden</td>\n",
       "      <td>SG</td>\n",
       "      <td>25</td>\n",
       "      <td>15.756438</td>\n",
       "      <td>Houston Rockets</td>\n",
       "    </tr>\n",
       "    <tr>\n",
       "      <th>26</th>\n",
       "      <td>42.0</td>\n",
       "      <td>Roy Hibbert</td>\n",
       "      <td>C</td>\n",
       "      <td>26</td>\n",
       "      <td>15.592217</td>\n",
       "      <td>Los Angeles Lakers</td>\n",
       "    </tr>\n",
       "    <tr>\n",
       "      <th>27</th>\n",
       "      <td>20.0</td>\n",
       "      <td>Eric Gordon</td>\n",
       "      <td>SG</td>\n",
       "      <td>27</td>\n",
       "      <td>15.514031</td>\n",
       "      <td>New Orleans Pelicans</td>\n",
       "    </tr>\n",
       "    <tr>\n",
       "      <th>28</th>\n",
       "      <td>42.0</td>\n",
       "      <td>Klay Thompson</td>\n",
       "      <td>SG</td>\n",
       "      <td>28</td>\n",
       "      <td>15.501000</td>\n",
       "      <td>Golden State Warriors</td>\n",
       "    </tr>\n",
       "    <tr>\n",
       "      <th>29</th>\n",
       "      <td>35.0</td>\n",
       "      <td>David Lee</td>\n",
       "      <td>PF</td>\n",
       "      <td>29</td>\n",
       "      <td>15.493680</td>\n",
       "      <td>Dallas Mavericks</td>\n",
       "    </tr>\n",
       "    <tr>\n",
       "      <th>...</th>\n",
       "      <td>...</td>\n",
       "      <td>...</td>\n",
       "      <td>...</td>\n",
       "      <td>...</td>\n",
       "      <td>...</td>\n",
       "      <td>...</td>\n",
       "    </tr>\n",
       "    <tr>\n",
       "      <th>388</th>\n",
       "      <td>48.0</td>\n",
       "      <td>Jarell Eddie</td>\n",
       "      <td>SG</td>\n",
       "      <td>388</td>\n",
       "      <td>0.561716</td>\n",
       "      <td>Washington Wizards</td>\n",
       "    </tr>\n",
       "    <tr>\n",
       "      <th>389</th>\n",
       "      <td>20.0</td>\n",
       "      <td>Greg Whittington</td>\n",
       "      <td>SF</td>\n",
       "      <td>389</td>\n",
       "      <td>0.525093</td>\n",
       "      <td>Miami Heat</td>\n",
       "    </tr>\n",
       "    <tr>\n",
       "      <th>390</th>\n",
       "      <td>34.0</td>\n",
       "      <td>Josh Richardson</td>\n",
       "      <td>SG</td>\n",
       "      <td>390</td>\n",
       "      <td>0.525093</td>\n",
       "      <td>Miami Heat</td>\n",
       "    </tr>\n",
       "    <tr>\n",
       "      <th>391</th>\n",
       "      <td>47.0</td>\n",
       "      <td>Corey Hawkins</td>\n",
       "      <td>PG</td>\n",
       "      <td>391</td>\n",
       "      <td>0.525093</td>\n",
       "      <td>Miami Heat</td>\n",
       "    </tr>\n",
       "    <tr>\n",
       "      <th>392</th>\n",
       "      <td>19.0</td>\n",
       "      <td>Aaron Harrison</td>\n",
       "      <td>SG</td>\n",
       "      <td>392</td>\n",
       "      <td>0.525093</td>\n",
       "      <td>Charlotte Hornets</td>\n",
       "    </tr>\n",
       "    <tr>\n",
       "      <th>393</th>\n",
       "      <td>38.0</td>\n",
       "      <td>Shannon Scott</td>\n",
       "      <td>PG</td>\n",
       "      <td>393</td>\n",
       "      <td>0.525093</td>\n",
       "      <td>Toronto Raptors</td>\n",
       "    </tr>\n",
       "    <tr>\n",
       "      <th>394</th>\n",
       "      <td>18.0</td>\n",
       "      <td>Ronald Roberts Jr.</td>\n",
       "      <td>PF</td>\n",
       "      <td>394</td>\n",
       "      <td>0.525093</td>\n",
       "      <td>Toronto Raptors</td>\n",
       "    </tr>\n",
       "    <tr>\n",
       "      <th>395</th>\n",
       "      <td>28.0</td>\n",
       "      <td>Treveon Graham</td>\n",
       "      <td>SG</td>\n",
       "      <td>395</td>\n",
       "      <td>0.525093</td>\n",
       "      <td>Utah Jazz</td>\n",
       "    </tr>\n",
       "    <tr>\n",
       "      <th>396</th>\n",
       "      <td>23.0</td>\n",
       "      <td>Jarrid Famous</td>\n",
       "      <td>PF</td>\n",
       "      <td>396</td>\n",
       "      <td>0.525093</td>\n",
       "      <td>Memphis Grizzlies</td>\n",
       "    </tr>\n",
       "    <tr>\n",
       "      <th>397</th>\n",
       "      <td>30.0</td>\n",
       "      <td>Luis Montero</td>\n",
       "      <td>SG</td>\n",
       "      <td>397</td>\n",
       "      <td>0.525093</td>\n",
       "      <td>Portland Trail Blazers</td>\n",
       "    </tr>\n",
       "    <tr>\n",
       "      <th>398</th>\n",
       "      <td>22.0</td>\n",
       "      <td>Cliff Alexander</td>\n",
       "      <td>PF</td>\n",
       "      <td>398</td>\n",
       "      <td>0.525093</td>\n",
       "      <td>Portland Trail Blazers</td>\n",
       "    </tr>\n",
       "    <tr>\n",
       "      <th>399</th>\n",
       "      <td>30.0</td>\n",
       "      <td>Bo McCalebb</td>\n",
       "      <td>PG</td>\n",
       "      <td>399</td>\n",
       "      <td>0.525093</td>\n",
       "      <td>New Orleans Pelicans</td>\n",
       "    </tr>\n",
       "    <tr>\n",
       "      <th>400</th>\n",
       "      <td>25.0</td>\n",
       "      <td>Lamar Patterson</td>\n",
       "      <td>SG</td>\n",
       "      <td>400</td>\n",
       "      <td>0.525093</td>\n",
       "      <td>Atlanta Hawks</td>\n",
       "    </tr>\n",
       "    <tr>\n",
       "      <th>401</th>\n",
       "      <td>24.0</td>\n",
       "      <td>Terran Petteway</td>\n",
       "      <td>SG</td>\n",
       "      <td>401</td>\n",
       "      <td>0.525093</td>\n",
       "      <td>Atlanta Hawks</td>\n",
       "    </tr>\n",
       "    <tr>\n",
       "      <th>402</th>\n",
       "      <td>24.0</td>\n",
       "      <td>Steve Novak</td>\n",
       "      <td>SF</td>\n",
       "      <td>402</td>\n",
       "      <td>0.289755</td>\n",
       "      <td>Oklahoma City Thunder</td>\n",
       "    </tr>\n",
       "    <tr>\n",
       "      <th>403</th>\n",
       "      <td>47.0</td>\n",
       "      <td>Anderson Varejao</td>\n",
       "      <td>PF</td>\n",
       "      <td>403</td>\n",
       "      <td>0.289755</td>\n",
       "      <td>Golden State Warriors</td>\n",
       "    </tr>\n",
       "    <tr>\n",
       "      <th>404</th>\n",
       "      <td>36.0</td>\n",
       "      <td>JaKarr Sampson</td>\n",
       "      <td>SG</td>\n",
       "      <td>404</td>\n",
       "      <td>0.258489</td>\n",
       "      <td>Philadelphia 76ers</td>\n",
       "    </tr>\n",
       "    <tr>\n",
       "      <th>405</th>\n",
       "      <td>30.0</td>\n",
       "      <td>Bryce Dejean-Jones</td>\n",
       "      <td>SG</td>\n",
       "      <td>405</td>\n",
       "      <td>0.169883</td>\n",
       "      <td>New Orleans Pelicans</td>\n",
       "    </tr>\n",
       "    <tr>\n",
       "      <th>406</th>\n",
       "      <td>18.0</td>\n",
       "      <td>Lorenzo Brown</td>\n",
       "      <td>PG</td>\n",
       "      <td>406</td>\n",
       "      <td>0.111444</td>\n",
       "      <td>Phoenix Suns</td>\n",
       "    </tr>\n",
       "    <tr>\n",
       "      <th>407</th>\n",
       "      <td>29.0</td>\n",
       "      <td>Ryan Hollins</td>\n",
       "      <td>C</td>\n",
       "      <td>407</td>\n",
       "      <td>0.111444</td>\n",
       "      <td>Memphis Grizzlies</td>\n",
       "    </tr>\n",
       "    <tr>\n",
       "      <th>408</th>\n",
       "      <td>35.0</td>\n",
       "      <td>Jeff Ayres</td>\n",
       "      <td>PF</td>\n",
       "      <td>408</td>\n",
       "      <td>0.111444</td>\n",
       "      <td>Los Angeles Clippers</td>\n",
       "    </tr>\n",
       "    <tr>\n",
       "      <th>409</th>\n",
       "      <td>39.0</td>\n",
       "      <td>Erick Green</td>\n",
       "      <td>PG</td>\n",
       "      <td>409</td>\n",
       "      <td>0.099418</td>\n",
       "      <td>Utah Jazz</td>\n",
       "    </tr>\n",
       "    <tr>\n",
       "      <th>410</th>\n",
       "      <td>42.0</td>\n",
       "      <td>Sean Kilpatrick</td>\n",
       "      <td>SG</td>\n",
       "      <td>410</td>\n",
       "      <td>0.099418</td>\n",
       "      <td>Denver Nuggets</td>\n",
       "    </tr>\n",
       "    <tr>\n",
       "      <th>411</th>\n",
       "      <td>19.0</td>\n",
       "      <td>Keith Appling</td>\n",
       "      <td>PG</td>\n",
       "      <td>411</td>\n",
       "      <td>0.061776</td>\n",
       "      <td>Orlando Magic</td>\n",
       "    </tr>\n",
       "    <tr>\n",
       "      <th>412</th>\n",
       "      <td>43.0</td>\n",
       "      <td>Orlando Johnson</td>\n",
       "      <td>SG</td>\n",
       "      <td>412</td>\n",
       "      <td>0.055722</td>\n",
       "      <td>Phoenix Suns</td>\n",
       "    </tr>\n",
       "    <tr>\n",
       "      <th>413</th>\n",
       "      <td>40.0</td>\n",
       "      <td>Elliot Williams</td>\n",
       "      <td>SG</td>\n",
       "      <td>413</td>\n",
       "      <td>0.055722</td>\n",
       "      <td>Memphis Grizzlies</td>\n",
       "    </tr>\n",
       "    <tr>\n",
       "      <th>414</th>\n",
       "      <td>34.0</td>\n",
       "      <td>Phil Pressey</td>\n",
       "      <td>PG</td>\n",
       "      <td>414</td>\n",
       "      <td>0.055722</td>\n",
       "      <td>Phoenix Suns</td>\n",
       "    </tr>\n",
       "    <tr>\n",
       "      <th>415</th>\n",
       "      <td>27.0</td>\n",
       "      <td>Jordan McRae</td>\n",
       "      <td>SG</td>\n",
       "      <td>415</td>\n",
       "      <td>0.049709</td>\n",
       "      <td>Phoenix Suns</td>\n",
       "    </tr>\n",
       "    <tr>\n",
       "      <th>416</th>\n",
       "      <td>33.0</td>\n",
       "      <td>Cory Jefferson</td>\n",
       "      <td>PF</td>\n",
       "      <td>416</td>\n",
       "      <td>0.049709</td>\n",
       "      <td>Phoenix Suns</td>\n",
       "    </tr>\n",
       "    <tr>\n",
       "      <th>417</th>\n",
       "      <td>24.0</td>\n",
       "      <td>Thanasis Antetokounmpo</td>\n",
       "      <td>SF</td>\n",
       "      <td>417</td>\n",
       "      <td>0.030888</td>\n",
       "      <td>New York Knicks</td>\n",
       "    </tr>\n",
       "  </tbody>\n",
       "</table>\n",
       "<p>418 rows × 6 columns</p>\n",
       "</div>"
      ],
      "text/plain": [
       "      AGE                  PLAYER POSITION  RANK  SALARY ($M)  \\\n",
       "0     NaN           Solomon Igori      NaN   418    30.000000   \n",
       "1    32.0             Kobe Bryant       SF     1    25.000000   \n",
       "2    35.0             Joe Johnson       SF     2    24.894863   \n",
       "3    21.0            LeBron James       SF     3    22.970500   \n",
       "4    47.0         Carmelo Anthony       SF     4    22.875000   \n",
       "5    19.0           Dwight Howard        C     5    22.359364   \n",
       "6    38.0              Chris Bosh       PF     6    22.192730   \n",
       "7    22.0              Chris Paul       PG     7    21.468695   \n",
       "8    42.0            Kevin Durant       SF     8    20.158622   \n",
       "9    45.0            Derrick Rose       PG     9    20.093064   \n",
       "10   31.0             Dwyane Wade       SG    10    20.000000   \n",
       "11   21.0       LaMarcus Aldridge       PF    11    19.689000   \n",
       "12   23.0              Kevin Love       PF    12    19.689000   \n",
       "13   23.0              Marc Gasol        C    13    19.688000   \n",
       "14   36.0           Blake Griffin       PF    14    18.907726   \n",
       "15   19.0            Paul Millsap       PF    15    18.671659   \n",
       "16   37.0             Paul George       SF    16    17.120106   \n",
       "17   30.0       Russell Westbrook       PG    17    16.744218   \n",
       "18   21.0            Kyrie Irving       PG    18    16.407501   \n",
       "19   45.0           Kawhi Leonard       SF    19    16.407500   \n",
       "20   38.0             Enes Kanter        C    20    16.407500   \n",
       "21   49.0            Jimmy Butler       SG    21    16.407500   \n",
       "22   29.0           Tobias Harris       SF    22    16.000000   \n",
       "23   25.0               John Wall       PG    23    15.851950   \n",
       "24   34.0        DeMarcus Cousins        C    24    15.851950   \n",
       "25   31.0            James Harden       SG    25    15.756438   \n",
       "26   42.0             Roy Hibbert        C    26    15.592217   \n",
       "27   20.0             Eric Gordon       SG    27    15.514031   \n",
       "28   42.0           Klay Thompson       SG    28    15.501000   \n",
       "29   35.0               David Lee       PF    29    15.493680   \n",
       "..    ...                     ...      ...   ...          ...   \n",
       "388  48.0            Jarell Eddie       SG   388     0.561716   \n",
       "389  20.0        Greg Whittington       SF   389     0.525093   \n",
       "390  34.0         Josh Richardson       SG   390     0.525093   \n",
       "391  47.0           Corey Hawkins       PG   391     0.525093   \n",
       "392  19.0          Aaron Harrison       SG   392     0.525093   \n",
       "393  38.0           Shannon Scott       PG   393     0.525093   \n",
       "394  18.0      Ronald Roberts Jr.       PF   394     0.525093   \n",
       "395  28.0          Treveon Graham       SG   395     0.525093   \n",
       "396  23.0           Jarrid Famous       PF   396     0.525093   \n",
       "397  30.0            Luis Montero       SG   397     0.525093   \n",
       "398  22.0         Cliff Alexander       PF   398     0.525093   \n",
       "399  30.0             Bo McCalebb       PG   399     0.525093   \n",
       "400  25.0         Lamar Patterson       SG   400     0.525093   \n",
       "401  24.0         Terran Petteway       SG   401     0.525093   \n",
       "402  24.0             Steve Novak       SF   402     0.289755   \n",
       "403  47.0        Anderson Varejao       PF   403     0.289755   \n",
       "404  36.0          JaKarr Sampson       SG   404     0.258489   \n",
       "405  30.0      Bryce Dejean-Jones       SG   405     0.169883   \n",
       "406  18.0           Lorenzo Brown       PG   406     0.111444   \n",
       "407  29.0            Ryan Hollins        C   407     0.111444   \n",
       "408  35.0              Jeff Ayres       PF   408     0.111444   \n",
       "409  39.0             Erick Green       PG   409     0.099418   \n",
       "410  42.0         Sean Kilpatrick       SG   410     0.099418   \n",
       "411  19.0           Keith Appling       PG   411     0.061776   \n",
       "412  43.0         Orlando Johnson       SG   412     0.055722   \n",
       "413  40.0         Elliot Williams       SG   413     0.055722   \n",
       "414  34.0            Phil Pressey       PG   414     0.055722   \n",
       "415  27.0            Jordan McRae       SG   415     0.049709   \n",
       "416  33.0          Cory Jefferson       PF   416     0.049709   \n",
       "417  24.0  Thanasis Antetokounmpo       SF   417     0.030888   \n",
       "\n",
       "                       TEAM  \n",
       "0                       PDC  \n",
       "1        Los Angeles Lakers  \n",
       "2             Brooklyn Nets  \n",
       "3       Cleveland Cavaliers  \n",
       "4           New York Knicks  \n",
       "5           Houston Rockets  \n",
       "6                Miami Heat  \n",
       "7      Los Angeles Clippers  \n",
       "8     Oklahoma City Thunder  \n",
       "9             Chicago Bulls  \n",
       "10               Miami Heat  \n",
       "11        San Antonio Spurs  \n",
       "12      Cleveland Cavaliers  \n",
       "13        Memphis Grizzlies  \n",
       "14     Los Angeles Clippers  \n",
       "15            Atlanta Hawks  \n",
       "16           Indiana Pacers  \n",
       "17    Oklahoma City Thunder  \n",
       "18      Cleveland Cavaliers  \n",
       "19        San Antonio Spurs  \n",
       "20    Oklahoma City Thunder  \n",
       "21            Chicago Bulls  \n",
       "22            Orlando Magic  \n",
       "23       Washington Wizards  \n",
       "24         Sacramento Kings  \n",
       "25          Houston Rockets  \n",
       "26       Los Angeles Lakers  \n",
       "27     New Orleans Pelicans  \n",
       "28    Golden State Warriors  \n",
       "29         Dallas Mavericks  \n",
       "..                      ...  \n",
       "388      Washington Wizards  \n",
       "389              Miami Heat  \n",
       "390              Miami Heat  \n",
       "391              Miami Heat  \n",
       "392       Charlotte Hornets  \n",
       "393         Toronto Raptors  \n",
       "394         Toronto Raptors  \n",
       "395               Utah Jazz  \n",
       "396       Memphis Grizzlies  \n",
       "397  Portland Trail Blazers  \n",
       "398  Portland Trail Blazers  \n",
       "399    New Orleans Pelicans  \n",
       "400           Atlanta Hawks  \n",
       "401           Atlanta Hawks  \n",
       "402   Oklahoma City Thunder  \n",
       "403   Golden State Warriors  \n",
       "404      Philadelphia 76ers  \n",
       "405    New Orleans Pelicans  \n",
       "406            Phoenix Suns  \n",
       "407       Memphis Grizzlies  \n",
       "408    Los Angeles Clippers  \n",
       "409               Utah Jazz  \n",
       "410          Denver Nuggets  \n",
       "411           Orlando Magic  \n",
       "412            Phoenix Suns  \n",
       "413       Memphis Grizzlies  \n",
       "414            Phoenix Suns  \n",
       "415            Phoenix Suns  \n",
       "416            Phoenix Suns  \n",
       "417         New York Knicks  \n",
       "\n",
       "[418 rows x 6 columns]"
      ]
     },
     "execution_count": 81,
     "metadata": {},
     "output_type": "execute_result"
    }
   ],
   "source": []
  },
  {
   "cell_type": "markdown",
   "metadata": {},
   "source": [
    "## Delete row"
   ]
  },
  {
   "cell_type": "code",
   "execution_count": 82,
   "metadata": {},
   "outputs": [],
   "source": []
  },
  {
   "cell_type": "code",
   "execution_count": null,
   "metadata": {},
   "outputs": [],
   "source": []
  },
  {
   "cell_type": "markdown",
   "metadata": {},
   "source": [
    "# Conclusion"
   ]
  }
 ],
 "metadata": {
  "kernelspec": {
   "display_name": "Python 3",
   "language": "python",
   "name": "python3"
  },
  "language_info": {
   "codemirror_mode": {
    "name": "ipython",
    "version": 3
   },
   "file_extension": ".py",
   "mimetype": "text/x-python",
   "name": "python",
   "nbconvert_exporter": "python",
   "pygments_lexer": "ipython3",
   "version": "3.7.3"
  },
  "latex_envs": {
   "LaTeX_envs_menu_present": true,
   "autoclose": false,
   "autocomplete": true,
   "bibliofile": "biblio.bib",
   "cite_by": "apalike",
   "current_citInitial": 1,
   "eqLabelWithNumbers": true,
   "eqNumInitial": 1,
   "hotkeys": {
    "equation": "Ctrl-E",
    "itemize": "Ctrl-I"
   },
   "labels_anchors": false,
   "latex_user_defs": false,
   "report_style_numbering": false,
   "user_envs_cfg": false
  },
  "toc": {
   "base_numbering": 1,
   "nav_menu": {},
   "number_sections": true,
   "sideBar": true,
   "skip_h1_title": false,
   "title_cell": "Table of Contents",
   "title_sidebar": "Contents",
   "toc_cell": false,
   "toc_position": {
    "height": "calc(100% - 180px)",
    "left": "10px",
    "top": "150px",
    "width": "244.188px"
   },
   "toc_section_display": true,
   "toc_window_display": true
  },
  "varInspector": {
   "cols": {
    "lenName": 16,
    "lenType": 16,
    "lenVar": 40
   },
   "kernels_config": {
    "python": {
     "delete_cmd_postfix": "",
     "delete_cmd_prefix": "del ",
     "library": "var_list.py",
     "varRefreshCmd": "print(var_dic_list())"
    },
    "r": {
     "delete_cmd_postfix": ") ",
     "delete_cmd_prefix": "rm(",
     "library": "var_list.r",
     "varRefreshCmd": "cat(var_dic_list()) "
    }
   },
   "types_to_exclude": [
    "module",
    "function",
    "builtin_function_or_method",
    "instance",
    "_Feature"
   ],
   "window_display": false
  }
 },
 "nbformat": 4,
 "nbformat_minor": 2
}
